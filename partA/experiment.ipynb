{
 "cells": [
  {
   "cell_type": "code",
   "execution_count": 1,
   "id": "aaeb5dcb",
   "metadata": {},
   "outputs": [],
   "source": [
    "import torch\n",
    "import matplotlib.pyplot as plt\n",
    "import torch.nn as nn\n",
    "from torchvision import transforms,datasets\n",
    "import torch.nn.functional as F\n",
    "import numpy as np\n",
    "from torch.utils.data import DataLoader, random_split\n"
   ]
  },
  {
   "cell_type": "code",
   "execution_count": 2,
   "id": "7e3c7661",
   "metadata": {},
   "outputs": [],
   "source": [
    "device = torch.device('cuda' if torch.cuda.is_available() else 'cpu')"
   ]
  },
  {
   "cell_type": "code",
   "execution_count": 3,
   "id": "d2965663",
   "metadata": {},
   "outputs": [],
   "source": [
    "train_folder = './inaturalist_12K/train'\n",
    "test_folder = './inaturalist_12K/val'"
   ]
  },
  {
   "cell_type": "code",
   "execution_count": 4,
   "id": "e20c8b4e",
   "metadata": {},
   "outputs": [],
   "source": [
    "transform = transforms.Compose([\n",
    "    transforms.Resize((400,400)),\n",
    "    transforms.ToTensor(),\n",
    "    transforms.Normalize(mean=[0.485, 0.456, 0.406], std=[0.229, 0.224, 0.225])\n",
    "])"
   ]
  },
  {
   "cell_type": "code",
   "execution_count": 5,
   "id": "1988cc57",
   "metadata": {},
   "outputs": [],
   "source": [
    "train_dataset = datasets.ImageFolder(train_folder,transform=transform)\n",
    "test_dataset = datasets.ImageFolder(test_folder,transform=transform)"
   ]
  },
  {
   "cell_type": "code",
   "execution_count": 6,
   "id": "6c941acb",
   "metadata": {},
   "outputs": [],
   "source": [
    "class Classifier(nn.Module):\n",
    "    def __init__(self,classes=10,cn1_filters=32,cn1_kernel_size=3,\n",
    "                cn2_filters=64,cn2_kernel_size=3,\n",
    "                cn3_filters=128,cn3_kernel_size=3,\n",
    "                cn4_filters=256,cn4_kernel_size=3,\n",
    "                cn5_filters=512,cn5_kernel_size=3,\n",
    "                n_dense_input_neuron = 1000,\n",
    "                n_dense_output_neuron = 2046\n",
    "                ):\n",
    "        super().__init__()\n",
    "        self.cn1 = nn.Conv2d(in_channels=3,out_channels=32,kernel_size=3,padding=1)\n",
    "        self.bn1 = nn.BatchNorm2d(32)\n",
    "        self.relu1 = nn.ReLU()\n",
    "        self.maxpool1 = nn.MaxPool2d(kernel_size=2,stride=2)\n",
    "\n",
    "        self.cn2 = nn.Conv2d(in_channels=32,out_channels=64,kernel_size=3,padding=1)\n",
    "        self.bn2 = nn.BatchNorm2d(64)\n",
    "        self.relu2 = nn.ReLU()\n",
    "        self.maxpool2 = nn.MaxPool2d(kernel_size=2,stride=2)\n",
    "\n",
    "        self.cn3 = nn.Conv2d(in_channels=64,out_channels=128,kernel_size=3,padding=1)\n",
    "        self.bn3 = nn.BatchNorm2d(128)\n",
    "        self.relu3 = nn.ReLU()\n",
    "        self.maxpool3 = nn.MaxPool2d(kernel_size=2,stride=2)\n",
    "\n",
    "        self.cn4 = nn.Conv2d(in_channels=128,out_channels=256,kernel_size=3,padding=1)\n",
    "        self.bn4 = nn.BatchNorm2d(256)\n",
    "        self.relu4 = nn.ReLU()\n",
    "        self.maxpool4 = nn.MaxPool2d(kernel_size=2,stride=2)\n",
    "\n",
    "        self.cn5 = nn.Conv2d(in_channels=256,out_channels=512,kernel_size=3,padding=1)\n",
    "        self.bn5 = nn.BatchNorm2d(512)\n",
    "        self.relu5 = nn.ReLU()\n",
    "        self.maxpool5 = nn.MaxPool2d(kernel_size=2,stride=2)\n",
    "\n",
    "        self.flatten = nn.Flatten()\n",
    "\n",
    "        self.dense_layer = nn.Linear(73728,n_dense_output_neuron)\n",
    "        self.relu = nn.ReLU()\n",
    "        self.dropout = nn.Dropout(0.5)\n",
    "        self.output_layer = nn.Linear(n_dense_output_neuron,10)\n",
    "\n",
    "    def forward(self,data):\n",
    "        out = self.cn1(data)\n",
    "        out = self.bn1(out)\n",
    "        out = self.relu1(out)\n",
    "        out = self.maxpool1(out)\n",
    "\n",
    "        out = self.cn2(out)\n",
    "        out = self.bn2(out)\n",
    "        out = self.relu2(out)\n",
    "        out = self.maxpool2(out)\n",
    "\n",
    "        out = self.cn3(out)\n",
    "        out = self.bn3(out)\n",
    "        out = self.relu3(out)\n",
    "        out = self.maxpool3(out)\n",
    "\n",
    "        out = self.cn4(out)\n",
    "        out = self.bn4(out)\n",
    "        out = self.relu4(out)\n",
    "        out = self.maxpool4(out)\n",
    "\n",
    "        out = self.cn5(out)\n",
    "        out = self.bn5(out)\n",
    "        out = self.relu5(out)\n",
    "        out = self.maxpool5(out)\n",
    "\n",
    "        out = self.flatten(out)\n",
    "\n",
    "        out = self.dense_layer(out)\n",
    "        out = self.relu(out)\n",
    "        out = self.dropout(out)\n",
    "        out = self.output_layer(out)\n",
    "        # return F.log_softmax(out,dim=1)\n",
    "        return out"
   ]
  },
  {
   "cell_type": "code",
   "execution_count": 7,
   "id": "8fb75dbc",
   "metadata": {},
   "outputs": [],
   "source": [
    "cnn_model = Classifier(10)\n",
    "loss_func = nn.CrossEntropyLoss()\n",
    "cnn_model.to(device)\n",
    "optimizer = torch.optim.Adam(cnn_model.parameters(),lr=1e-5)\n",
    "epochs = 1000"
   ]
  },
  {
   "cell_type": "code",
   "execution_count": 8,
   "id": "ffa904a2",
   "metadata": {},
   "outputs": [],
   "source": [
    "train_size = int(0.8*len(train_dataset))\n",
    "val_size = len(train_dataset) - train_size"
   ]
  },
  {
   "cell_type": "code",
   "execution_count": 9,
   "id": "5dd1bd74",
   "metadata": {},
   "outputs": [],
   "source": [
    "train_data,val_data = random_split(train_dataset,[train_size,val_size])\n",
    "\n",
    "train_data = DataLoader(train_data,batch_size=32,shuffle=True)\n",
    "val_data = DataLoader(val_data,batch_size=1,shuffle=True)"
   ]
  },
  {
   "cell_type": "code",
   "execution_count": null,
   "id": "ee4b7c8e",
   "metadata": {},
   "outputs": [
    {
     "name": "stdout",
     "output_type": "stream",
     "text": [
      "Epoch [1/1000], Validation Loss: 4105.6115, Validation Accuracy: 27.45%\n",
      "Epoch [2/1000], Validation Loss: 3801.5592, Validation Accuracy: 33.20%\n",
      "Epoch [3/1000], Validation Loss: 3699.6916, Validation Accuracy: 35.05%\n",
      "Epoch [4/1000], Validation Loss: 3699.7987, Validation Accuracy: 34.90%\n",
      "Epoch [5/1000], Validation Loss: 3603.5081, Validation Accuracy: 36.90%\n",
      "Epoch [6/1000], Validation Loss: 3652.6010, Validation Accuracy: 37.10%\n",
      "Epoch [7/1000], Validation Loss: 3550.8026, Validation Accuracy: 38.60%\n",
      "Epoch [8/1000], Validation Loss: 3643.3213, Validation Accuracy: 37.00%\n",
      "Epoch [9/1000], Validation Loss: 3573.3419, Validation Accuracy: 38.40%\n",
      "Epoch [10/1000], Validation Loss: 3553.9891, Validation Accuracy: 37.25%\n",
      "Epoch [11/1000], Validation Loss: 3473.2477, Validation Accuracy: 40.85%\n",
      "Epoch [12/1000], Validation Loss: 3516.6598, Validation Accuracy: 40.10%\n",
      "Epoch [13/1000], Validation Loss: 3548.7972, Validation Accuracy: 39.30%\n",
      "Epoch [14/1000], Validation Loss: 3599.8136, Validation Accuracy: 38.40%\n"
     ]
    }
   ],
   "source": [
    "for ep in range(epochs):\n",
    "    cnn_model.train() \n",
    "    for i, (img, label) in enumerate(train_data):\n",
    "        img = img.to(device)\n",
    "        label = label.to(device)\n",
    "\n",
    "        output = cnn_model(img)\n",
    "        \n",
    "        loss = loss_func(output, label)\n",
    "        \n",
    "        optimizer.zero_grad()\n",
    "        loss.backward()\n",
    "        optimizer.step()\n",
    "\n",
    "    cnn_model.eval()\n",
    "    with torch.no_grad():\n",
    "        total_loss_v = 0\n",
    "        acc = 0\n",
    "        for data, label in val_data:\n",
    "            data = data.to(device)\n",
    "            label = label.to(device)\n",
    "\n",
    "            out = cnn_model(data)\n",
    "            total_loss_v += loss_func(out, label).item()\n",
    "\n",
    "            pred = out.argmax(dim=1, keepdim=True)\n",
    "            acc += pred.eq(label.view_as(pred)).sum().item()\n",
    "\n",
    "        accuracy = 100. * acc / len(val_data.dataset)\n",
    "\n",
    "        print(f'Epoch [{ep+1}/{epochs}], Validation Loss: {total_loss_v:.4f}, Validation Accuracy: {accuracy:.2f}%')\n",
    "\n",
    "    cnn_model.train()\n"
   ]
  },
  {
   "cell_type": "code",
   "execution_count": null,
   "id": "c23dcbf9",
   "metadata": {},
   "outputs": [],
   "source": []
  }
 ],
 "metadata": {
  "kernelspec": {
   "display_name": ".venv",
   "language": "python",
   "name": "python3"
  },
  "language_info": {
   "codemirror_mode": {
    "name": "ipython",
    "version": 3
   },
   "file_extension": ".py",
   "mimetype": "text/x-python",
   "name": "python",
   "nbconvert_exporter": "python",
   "pygments_lexer": "ipython3",
   "version": "3.12.3"
  }
 },
 "nbformat": 4,
 "nbformat_minor": 5
}
